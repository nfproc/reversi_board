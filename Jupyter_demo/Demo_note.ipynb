{
 "cells": [
  {
   "cell_type": "markdown",
   "metadata": {},
   "source": [
    "## Hardware-accelerated Reversi Board Detection on PYNQ Platform\n",
    "2024.07.12 Naoki F., AIT. See LICENSE.txt for license information."
   ]
  },
  {
   "cell_type": "markdown",
   "metadata": {},
   "source": [
    "まずはハードウェアオーバーレイを書き込んで，必要な IP コアを参照できるようにします．\n",
    "もし xsa ファイルをアップロードした場合は，Overlay の引数を適切に修正してください．\n",
    "古いバージョン (<= 2.6) の PYNQ では，MMIO にアクセスするために mem_dict ではなく ip_dict を使う必要があります．\n",
    "\n",
    "At first, write a hardware overlay and prepare references to IP cores that has to be controlled.\n",
    "If you are using xsa file, correct the argument of the Overlay constructor.\n",
    "In an older version of PYNQ (<= 2.6), use ip_dict instead of ip_dict to access to the MMIO."
   ]
  },
  {
   "cell_type": "code",
   "execution_count": null,
   "metadata": {},
   "outputs": [],
   "source": [
    "from ReversiAccelerator import *\n",
    "from pynq.lib.video import *\n",
    "from pynq import MMIO\n",
    "from pynq import PL\n",
    "\n",
    "PL.reset()\n",
    "accel = ReversiAccelerator(\"reversi_hw.bit\")\n",
    "hdmi_in = accel.pl.hdmi_in\n",
    "hdmi_out = accel.pl.hdmi_out\n",
    "vdma = accel.pl.axi_vdma_0\n",
    "bram = MMIO(base_addr = accel.pl.mem_dict['axi_bram_ctrl_0']['phys_addr'], length = 129600)"
   ]
  },
  {
   "cell_type": "markdown",
   "metadata": {},
   "source": [
    "HDMI 入力を初期化します．\n",
    "まれに PC からの接続の認識が遅れて，このセルの実行に失敗することがあります．\n",
    "PC から外部モニタの存在を認識できているようであれば，もう1度実行してみてください．\n",
    "\n",
    "Initialize the HDMI input.\n",
    "This cell may fail when it takes long time for the PC to recognize the monitor.\n",
    "If it appears that the monitor has been recognized at last, try again."
   ]
  },
  {
   "cell_type": "code",
   "execution_count": 2,
   "metadata": {},
   "outputs": [],
   "source": [
    "hdmi_in.start(10)\n",
    "frm_w = hdmi_in.mode.width\n",
    "frm_h = hdmi_in.mode.height\n",
    "if frm_w != 1920 or frm_h != 1080:\n",
    "    raise ValueError(\"HDMI Input (%d, %d) is not 1080p\" % (frm_w, frm_h))\n",
    "\n",
    "vdma.readchannel.mode = VideoMode(1920, 1080, 24, 60)\n",
    "vdma.readchannel.start()"
   ]
  },
  {
   "cell_type": "markdown",
   "metadata": {},
   "source": [
    "HDMI 出力を初期化します．\n",
    "このセルの実行が終われば，ディスプレイに入力と同じ映像が表示されるはずです．\n",
    "\n",
    "Initialize the HDMI output.\n",
    "After that, the same image as the input will appear on the display."
   ]
  },
  {
   "cell_type": "code",
   "execution_count": 3,
   "metadata": {},
   "outputs": [],
   "source": [
    "import numpy as np\n",
    "\n",
    "hdmi_out.mode = VideoMode(1920, 1080, 24)\n",
    "hdmi_out.start()\n",
    "vdma.writechannel.mode = VideoMode(1920, 1080, 24)\n",
    "vdma.writechannel.start()\n",
    "vdma.readchannel.tie(vdma.writechannel)\n",
    "\n",
    "obuf = np.zeros(shape=(270, 480), dtype=np.uint8)"
   ]
  },
  {
   "cell_type": "markdown",
   "metadata": {},
   "source": [
    "これがメインループです．ユーザにより明示的に停止されるまで，繰り返し実行されます．\n",
    "\n",
    "This is the main loop, executed repeatedly until explicitly stopped by the user."
   ]
  },
  {
   "cell_type": "code",
   "execution_count": 4,
   "metadata": {},
   "outputs": [],
   "source": [
    "import Visualize as vis\n",
    "import my_board_recognition as mbr\n",
    "import board_recognition as br\n",
    "\n",
    "recognizer = br.RealBoardRecognizer()\n",
    "hint = br.Hint()\n",
    "hint.mode = br.Mode.PHOTO\n",
    "\n",
    "for i in range(100):\n",
    "    frame = vdma.readchannel.readframe()\n",
    "    crop = np.array(frame[28:1052, 448:1472])\n",
    "    lines = accel.start(crop)\n",
    "    line_groups, thetas = mbr.clusterLinesByTheta(lines)\n",
    "    line_groups = mbr.checkLineGroups(line_groups, thetas)\n",
    "    line_groups = mbr.findRepresentativeLines(line_groups)\n",
    "    ret, result = mbr.findVertices(line_groups, 512, 512)\n",
    "    obuf[:] = 0\n",
    "    vis.drawHoughLines(obuf, lines, 240, 135, 0xe0, 4, 1)\n",
    "    if line_groups is not None:\n",
    "        vis.drawHoughLines(obuf, line_groups[0], 240, 135, 0x9f, 4, 1)\n",
    "        vis.drawHoughLines(obuf, line_groups[1], 240, 135, 0x9f, 4, 1)        \n",
    "    vis.drawFrames(obuf, 480, 270, 256, 256, 0x83)\n",
    "    if ret:\n",
    "        ret, result = recognizer.detectDisc(crop, hint, result)\n",
    "    vis.drawresult(obuf, result if ret else None, 4, 158, 13)\n",
    "    bram.array[:] = obuf.ravel().view('uint32')"
   ]
  },
  {
   "cell_type": "markdown",
   "metadata": {},
   "source": [
    "映像の受け取りと送出を停止します．\n",
    "このセルを実行せずに別のハードウェアオーバーレイを読み込んだりすると，\n",
    "PYNQ を再起動するまで HDMI 入出力が機能しなくなる場合があります．\n",
    "\n",
    "Stop receiving and sending video.\n",
    "If you forget to run this cell before reading another hardware overlay etc.,\n",
    "HDMI input/output may fall into unknown state and may not function until rebooting PYNQ."
   ]
  },
  {
   "cell_type": "code",
   "execution_count": 5,
   "metadata": {},
   "outputs": [],
   "source": [
    "vdma.readchannel.stop()\n",
    "vdma.writechannel.stop()\n",
    "hdmi_in.stop()\n",
    "hdmi_out.stop()"
   ]
  }
 ],
 "metadata": {
  "kernelspec": {
   "display_name": "Python 3",
   "language": "python",
   "name": "python3"
  },
  "language_info": {
   "codemirror_mode": {
    "name": "ipython",
    "version": 3
   },
   "file_extension": ".py",
   "mimetype": "text/x-python",
   "name": "python",
   "nbconvert_exporter": "python",
   "pygments_lexer": "ipython3",
   "version": "3.6.5"
  }
 },
 "nbformat": 4,
 "nbformat_minor": 2
}
