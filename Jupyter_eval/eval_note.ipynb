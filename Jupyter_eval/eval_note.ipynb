{
 "cells": [
  {
   "cell_type": "markdown",
   "metadata": {},
   "source": [
    "## Hardware-accelerated Reversi Board Detection on PYNQ Platform\n",
    "2024.06.24 Naoki F., AIT. See LICENSE.txt for license information."
   ]
  },
  {
   "cell_type": "markdown",
   "metadata": {},
   "source": [
    "オーバーレイや必要なバッファを準備するためのクラスを宣言します．\n",
    "\n",
    "Define a class for hardware overlay, required buffers, etc."
   ]
  },
  {
   "cell_type": "code",
   "execution_count": null,
   "metadata": {},
   "outputs": [],
   "source": [
    "from pynq import Overlay\n",
    "from pynq import allocate\n",
    "from pynq import PL\n",
    "from PIL import Image\n",
    "import numpy as np\n",
    "\n",
    "# Accelerator and buffers in need\n",
    "class ReversiAccelerator:\n",
    "    def __init__(self, bitfile_name):\n",
    "        PL.reset()              # make sure overlay cache is not used\n",
    "        self.pl = Overlay(bitfile_name)\n",
    "        self.accel = self.pl.reversi_accel_0\n",
    "        self.rho   = allocate(shape=(32,), dtype=np.float32)\n",
    "        self.theta = allocate(shape=(32,), dtype=np.float32)\n",
    "        self.accel.write(0x1c, self.rho.device_address)   # rho_out\n",
    "        self.accel.write(0x28, self.theta.device_address) # theta_out\n",
    "        self.last_height = self.last_width = 0\n",
    "        self.image = None\n",
    "        \n",
    "    def start(self, image):\n",
    "        colored = (len(image.shape) == 3)\n",
    "        if colored:\n",
    "            height, width, _ = image.shape\n",
    "        else:\n",
    "            height, width = image.shape\n",
    "        if width != self.last_width or height != self.last_height:\n",
    "            if self.image is not None:\n",
    "                self.image.freebuffer()\n",
    "            if colored:\n",
    "                self.image = allocate(shape=(height, width, 3), dtype=np.uint8, cacheable=1)\n",
    "            else:\n",
    "                self.image = allocate(shape=(height, width), dtype=np.uint8, cacheable=1)\n",
    "            self.accel.write(0x44, width)  # stride\n",
    "            self.accel.write(0x3c, width)  # width\n",
    "            self.accel.write(0x34, height) # height\n",
    "            self.last_width  = width\n",
    "            self.last_height = height\n",
    "        self.image[:] = image\n",
    "        self.rho[:] = self.theta[:] = np.zeros(32)\n",
    "        self.accel.write(0x10, self.image.device_address)\n",
    "        self.accel.write(0x00, 1) # ap_start\n",
    "        while (self.accel.read(0x00) & 0x02) == 0x00: # ap_done\n",
    "            pass\n",
    "        last_rho = last_theta = 0.0\n",
    "        lines = []\n",
    "        for i in range(32):\n",
    "            if self.rho[i] == last_rho and self.theta[i] == last_theta:\n",
    "                break\n",
    "            lines.append([(self.rho[i], self.theta[i])])\n",
    "            last_rho = self.rho[i]\n",
    "            last_theta = self.theta[i]\n",
    "        return lines"
   ]
  },
  {
   "cell_type": "markdown",
   "metadata": {},
   "source": [
    "もしオリジナルのソフトウェアアルゴリズムをそのまま使いたい場合は，次のセルを実行します．\n",
    "\n",
    "If you want to use the original software algorithm, run the following cell."
   ]
  },
  {
   "cell_type": "code",
   "execution_count": null,
   "metadata": {},
   "outputs": [],
   "source": [
    "accel = None\n",
    "version = 1\n",
    "my_eval = False"
   ]
  },
  {
   "cell_type": "markdown",
   "metadata": {},
   "source": [
    "もしハフ変換を使ったアルゴリズムをソフトウェア実行したい場合は，次のセルを実行します．\n",
    "\n",
    "If you want to use software implementation of the algorithm using Hough transform, run the following cell."
   ]
  },
  {
   "cell_type": "code",
   "execution_count": null,
   "metadata": {},
   "outputs": [],
   "source": [
    "accel = None\n",
    "version = 1\n",
    "my_eval = True"
   ]
  },
  {
   "cell_type": "markdown",
   "metadata": {},
   "source": [
    "もしハフ変換だけをハードウェア実装したコアを使いたい場合は，次のセルを実行します．\n",
    "\n",
    "If you want to use a hardware IP core that implements Hough transform only, run the following cell."
   ]
  },
  {
   "cell_type": "code",
   "execution_count": 9,
   "metadata": {},
   "outputs": [],
   "source": [
    "accel = ReversiAccelerator(\"reversi_hw_hough_only.bit\")\n",
    "version = 1\n",
    "my_eval = True"
   ]
  },
  {
   "cell_type": "code",
   "execution_count": null,
   "metadata": {},
   "outputs": [],
   "source": [
    "もし盤検出の一連のプロセスをハードウェア実装したコアを使いたい場合は，次のセルを実行します．\n",
    "\n",
    "If you want to use a hardware IP core that implements a series of process of board detection, run the following cell."
   ]
  },
  {
   "cell_type": "code",
   "execution_count": 7,
   "metadata": {},
   "outputs": [],
   "source": [
    "accel = ReversiAccelerator(\"reversi_hw.bit\")\n",
    "version = 2\n",
    "my_eval = True"
   ]
  },
  {
   "cell_type": "markdown",
   "metadata": {},
   "source": [
    "どの場合でも，次のセルを実行すると，100枚の画像に対して盤認識を行い，その結果を表示します．\n",
    "\n",
    "For any implementaion, run the following cell to perform board recognition to 100 images and display the results."
   ]
  },
  {
   "cell_type": "code",
   "execution_count": null,
   "metadata": {
    "scrolled": true
   },
   "outputs": [],
   "source": [
    "import evaluate as ev\n",
    "\n",
    "if 'accel' not in globals():\n",
    "    accel = None # disable accelerator if not defined\n",
    "if 'version' not in globals():\n",
    "    version = 1\n",
    "if 'my_eval' not in globals():\n",
    "    my_eval = False\n",
    "    \n",
    "ev.eval_main(100, \"images/answers.txt\", accel=accel, my_eval=my_eval, version=version)"
   ]
  },
  {
   "cell_type": "code",
   "execution_count": null,
   "metadata": {},
   "outputs": [],
   "source": []
  }
 ],
 "metadata": {
  "kernelspec": {
   "display_name": "Python 3",
   "language": "python",
   "name": "python3"
  },
  "language_info": {
   "codemirror_mode": {
    "name": "ipython",
    "version": 3
   },
   "file_extension": ".py",
   "mimetype": "text/x-python",
   "name": "python",
   "nbconvert_exporter": "python",
   "pygments_lexer": "ipython3",
   "version": "3.6.5"
  }
 },
 "nbformat": 4,
 "nbformat_minor": 2
}
